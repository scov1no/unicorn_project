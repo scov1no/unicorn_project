{
 "cells": [
  {
   "cell_type": "markdown",
   "id": "f81c1f0c",
   "metadata": {
    "papermill": {
     "duration": 0.006191,
     "end_time": "2022-06-29T22:59:04.980009",
     "exception": false,
     "start_time": "2022-06-29T22:59:04.973818",
     "status": "completed"
    },
    "tags": []
   },
   "source": [
    "# **Ciência de Dados para Finanças** <p>\n",
    "**por: @Odemir Depieri Jr** - [Linkedin](https://www.linkedin.com/in/odemir-depieri-jr/) <p>\n",
    "**por: @Ronisson Lucas Calmon da Conceição** - [Linkedin](https://www.linkedin.com/in/ronisson-lucas-calmon-da-concei%C3%A7%C3%A3o-7aa884202/) <p>\n",
    "[Página do Curso](https://)"
   ]
  },
  {
   "cell_type": "markdown",
   "id": "05ac5cff",
   "metadata": {
    "papermill": {
     "duration": 0.005431,
     "end_time": "2022-06-29T22:59:04.991475",
     "exception": false,
     "start_time": "2022-06-29T22:59:04.986044",
     "status": "completed"
    },
    "tags": []
   },
   "source": [
    "# **Sobre o conjunto de dados** <p>\n",
    "\"Unicórnio\" é um termo usado na indústria de capital de risco para descrever uma startup de capital fechado com valor superior a US$ 1 bilhão. O termo foi popularizado pela primeira vez pela capitalista de risco Aileen Lee, fundadora da Cowboy Ventures, um fundo de capital de risco com sede em Palo Alto, Califórnia.\n",
    "\n",
    "Unicórnios também podem se referir a um fenômeno de recrutamento no setor de recursos humanos (RH). Os gerentes de RH podem ter grandes expectativas para preencher um cargo, levando-os a procurar candidatos com qualificações superiores às exigidas para um cargo específico. Em essência, esses gerentes estão procurando um unicórnio, o que leva a uma desconexão entre seu candidato ideal e quem eles podem contratar do grupo de pessoas disponíveis.\n",
    "\n",
    "[Download da base de dados](https://www.kaggle.com/ramjasmaurya/unicorn-startups)\n"
   ]
  },
  {
   "cell_type": "code",
   "execution_count": 1,
   "id": "74fb86ae",
   "metadata": {
    "_cell_guid": "b1076dfc-b9ad-4769-8c92-a6c4dae69d19",
    "_uuid": "8f2839f25d086af736a60e9eeb907d3b93b6e0e5",
    "execution": {
     "iopub.execute_input": "2022-06-29T22:59:05.004864Z",
     "iopub.status.busy": "2022-06-29T22:59:05.004195Z",
     "iopub.status.idle": "2022-06-29T22:59:08.177020Z",
     "shell.execute_reply": "2022-06-29T22:59:08.175618Z"
    },
    "papermill": {
     "duration": 3.182516,
     "end_time": "2022-06-29T22:59:08.179688",
     "exception": false,
     "start_time": "2022-06-29T22:59:04.997172",
     "status": "completed"
    },
    "tags": []
   },
   "outputs": [],
   "source": [
    "#import libs\n",
    "import numpy as np # linear algebra\n",
    "import pandas as pd # data processing, CSV file I/O (e.g. pd.read_csv)\n",
    "import matplotlib.pyplot as plt\n",
    "import seaborn as sns\n",
    "\n",
    "import warnings\n",
    "warnings.filterwarnings('ignore')\n"
   ]
  },
  {
   "cell_type": "code",
   "execution_count": 2,
   "id": "40d5198f",
   "metadata": {
    "execution": {
     "iopub.execute_input": "2022-06-29T22:59:08.189413Z",
     "iopub.status.busy": "2022-06-29T22:59:08.189021Z",
     "iopub.status.idle": "2022-06-29T22:59:08.238739Z",
     "shell.execute_reply": "2022-06-29T22:59:08.235823Z"
    },
    "papermill": {
     "duration": 0.057808,
     "end_time": "2022-06-29T22:59:08.241477",
     "exception": false,
     "start_time": "2022-06-29T22:59:08.183669",
     "status": "completed"
    },
    "tags": []
   },
   "outputs": [
    {
     "data": {
      "text/plain": [
       "(936, 8)"
      ]
     },
     "execution_count": 2,
     "metadata": {},
     "output_type": "execute_result"
    }
   ],
   "source": [
    "# Ler os dados\n",
    "base_dados = pd.read_csv('../input/unicorn-startups/Startups in 2021 end.csv')\n",
    "\n",
    "#Verificar Dimensão\n",
    "base_dados.shape"
   ]
  },
  {
   "cell_type": "code",
   "execution_count": 3,
   "id": "e7a8d97b",
   "metadata": {
    "execution": {
     "iopub.execute_input": "2022-06-29T22:59:08.252084Z",
     "iopub.status.busy": "2022-06-29T22:59:08.251629Z",
     "iopub.status.idle": "2022-06-29T22:59:08.293097Z",
     "shell.execute_reply": "2022-06-29T22:59:08.289311Z"
    },
    "papermill": {
     "duration": 0.050041,
     "end_time": "2022-06-29T22:59:08.295765",
     "exception": false,
     "start_time": "2022-06-29T22:59:08.245724",
     "status": "completed"
    },
    "tags": []
   },
   "outputs": [
    {
     "data": {
      "text/html": [
       "<div>\n",
       "<style scoped>\n",
       "    .dataframe tbody tr th:only-of-type {\n",
       "        vertical-align: middle;\n",
       "    }\n",
       "\n",
       "    .dataframe tbody tr th {\n",
       "        vertical-align: top;\n",
       "    }\n",
       "\n",
       "    .dataframe thead th {\n",
       "        text-align: right;\n",
       "    }\n",
       "</style>\n",
       "<table border=\"1\" class=\"dataframe\">\n",
       "  <thead>\n",
       "    <tr style=\"text-align: right;\">\n",
       "      <th></th>\n",
       "      <th>Unnamed: 0</th>\n",
       "      <th>Company</th>\n",
       "      <th>Valuation ($B)</th>\n",
       "      <th>Date Joined</th>\n",
       "      <th>Country</th>\n",
       "      <th>City</th>\n",
       "      <th>Industry</th>\n",
       "      <th>Select Investors</th>\n",
       "    </tr>\n",
       "  </thead>\n",
       "  <tbody>\n",
       "    <tr>\n",
       "      <th>0</th>\n",
       "      <td>0</td>\n",
       "      <td>Bytedance</td>\n",
       "      <td>$140</td>\n",
       "      <td>4/7/2017</td>\n",
       "      <td>China</td>\n",
       "      <td>Beijing</td>\n",
       "      <td>Artificial intelligence</td>\n",
       "      <td>Sequoia Capital China, SIG Asia Investments, S...</td>\n",
       "    </tr>\n",
       "    <tr>\n",
       "      <th>1</th>\n",
       "      <td>1</td>\n",
       "      <td>SpaceX</td>\n",
       "      <td>$100.3</td>\n",
       "      <td>12/1/2012</td>\n",
       "      <td>United States</td>\n",
       "      <td>Hawthorne</td>\n",
       "      <td>Other</td>\n",
       "      <td>Founders Fund, Draper Fisher Jurvetson, Rothen...</td>\n",
       "    </tr>\n",
       "    <tr>\n",
       "      <th>2</th>\n",
       "      <td>2</td>\n",
       "      <td>Stripe</td>\n",
       "      <td>$95</td>\n",
       "      <td>1/23/2014</td>\n",
       "      <td>United States</td>\n",
       "      <td>San Francisco</td>\n",
       "      <td>Fintech</td>\n",
       "      <td>Khosla Ventures, LowercaseCapital, capitalG</td>\n",
       "    </tr>\n",
       "    <tr>\n",
       "      <th>3</th>\n",
       "      <td>3</td>\n",
       "      <td>Klarna</td>\n",
       "      <td>$45.6</td>\n",
       "      <td>12/12/2011</td>\n",
       "      <td>Sweden</td>\n",
       "      <td>Stockholm</td>\n",
       "      <td>Fintech</td>\n",
       "      <td>Institutional Venture Partners, Sequoia Capita...</td>\n",
       "    </tr>\n",
       "    <tr>\n",
       "      <th>4</th>\n",
       "      <td>4</td>\n",
       "      <td>Canva</td>\n",
       "      <td>$40</td>\n",
       "      <td>1/8/2018</td>\n",
       "      <td>Australia</td>\n",
       "      <td>Surry Hills</td>\n",
       "      <td>Internet software &amp; services</td>\n",
       "      <td>Sequoia Capital China, Blackbird Ventures, Mat...</td>\n",
       "    </tr>\n",
       "  </tbody>\n",
       "</table>\n",
       "</div>"
      ],
      "text/plain": [
       "   Unnamed: 0    Company Valuation ($B) Date Joined        Country  \\\n",
       "0           0  Bytedance           $140    4/7/2017          China   \n",
       "1           1     SpaceX         $100.3   12/1/2012  United States   \n",
       "2           2     Stripe            $95   1/23/2014  United States   \n",
       "3           3     Klarna          $45.6  12/12/2011         Sweden   \n",
       "4           4      Canva            $40    1/8/2018      Australia   \n",
       "\n",
       "            City                      Industry  \\\n",
       "0        Beijing       Artificial intelligence   \n",
       "1      Hawthorne                         Other   \n",
       "2  San Francisco                       Fintech   \n",
       "3      Stockholm                       Fintech   \n",
       "4    Surry Hills  Internet software & services   \n",
       "\n",
       "                                    Select Investors  \n",
       "0  Sequoia Capital China, SIG Asia Investments, S...  \n",
       "1  Founders Fund, Draper Fisher Jurvetson, Rothen...  \n",
       "2        Khosla Ventures, LowercaseCapital, capitalG  \n",
       "3  Institutional Venture Partners, Sequoia Capita...  \n",
       "4  Sequoia Capital China, Blackbird Ventures, Mat...  "
      ]
     },
     "execution_count": 3,
     "metadata": {},
     "output_type": "execute_result"
    }
   ],
   "source": [
    "#Primeiros registros\n",
    "base_dados.head()"
   ]
  },
  {
   "cell_type": "code",
   "execution_count": 4,
   "id": "bb99b937",
   "metadata": {
    "execution": {
     "iopub.execute_input": "2022-06-29T22:59:08.305679Z",
     "iopub.status.busy": "2022-06-29T22:59:08.305313Z",
     "iopub.status.idle": "2022-06-29T22:59:08.317502Z",
     "shell.execute_reply": "2022-06-29T22:59:08.314786Z"
    },
    "papermill": {
     "duration": 0.021848,
     "end_time": "2022-06-29T22:59:08.321757",
     "exception": false,
     "start_time": "2022-06-29T22:59:08.299909",
     "status": "completed"
    },
    "tags": []
   },
   "outputs": [
    {
     "data": {
      "text/plain": [
       "Index(['Unnamed: 0', 'Company', 'Valuation ($B)', 'Date Joined', 'Country',\n",
       "       'City', 'Industry', 'Select Investors'],\n",
       "      dtype='object')"
      ]
     },
     "execution_count": 4,
     "metadata": {},
     "output_type": "execute_result"
    }
   ],
   "source": [
    "#Colunas\n",
    "base_dados.columns"
   ]
  },
  {
   "cell_type": "code",
   "execution_count": 5,
   "id": "f0fc0ad2",
   "metadata": {
    "execution": {
     "iopub.execute_input": "2022-06-29T22:59:08.335036Z",
     "iopub.status.busy": "2022-06-29T22:59:08.333893Z",
     "iopub.status.idle": "2022-06-29T22:59:08.351006Z",
     "shell.execute_reply": "2022-06-29T22:59:08.348118Z"
    },
    "papermill": {
     "duration": 0.028187,
     "end_time": "2022-06-29T22:59:08.354655",
     "exception": false,
     "start_time": "2022-06-29T22:59:08.326468",
     "status": "completed"
    },
    "tags": []
   },
   "outputs": [],
   "source": [
    "#Renomear\n",
    "base_dados.rename( columns={\n",
    "    'Unnamed: 0' : 'Id',\n",
    "    'Company' : 'Empresa',\n",
    "    'Valuation ($B)' : 'Valor ($)',\n",
    "    'Date Joined' : 'Data de Adesão',\n",
    "    'Country' : 'Pais',\n",
    "    'City' : 'Cidade',\n",
    "    'Industry': 'Setor',\n",
    "    'Select Investors': 'Investidores',\n",
    "}, inplace=True )"
   ]
  },
  {
   "cell_type": "code",
   "execution_count": 6,
   "id": "7ef8838b",
   "metadata": {
    "execution": {
     "iopub.execute_input": "2022-06-29T22:59:08.373048Z",
     "iopub.status.busy": "2022-06-29T22:59:08.371999Z",
     "iopub.status.idle": "2022-06-29T22:59:08.414204Z",
     "shell.execute_reply": "2022-06-29T22:59:08.412919Z"
    },
    "papermill": {
     "duration": 0.056685,
     "end_time": "2022-06-29T22:59:08.418094",
     "exception": false,
     "start_time": "2022-06-29T22:59:08.361409",
     "status": "completed"
    },
    "tags": []
   },
   "outputs": [
    {
     "name": "stdout",
     "output_type": "stream",
     "text": [
      "<class 'pandas.core.frame.DataFrame'>\n",
      "RangeIndex: 936 entries, 0 to 935\n",
      "Data columns (total 8 columns):\n",
      " #   Column          Non-Null Count  Dtype \n",
      "---  ------          --------------  ----- \n",
      " 0   Id              936 non-null    int64 \n",
      " 1   Empresa         936 non-null    object\n",
      " 2   Valor ($)       936 non-null    object\n",
      " 3   Data de Adesão  936 non-null    object\n",
      " 4   Pais            936 non-null    object\n",
      " 5   Cidade          921 non-null    object\n",
      " 6   Setor           936 non-null    object\n",
      " 7   Investidores    935 non-null    object\n",
      "dtypes: int64(1), object(7)\n",
      "memory usage: 58.6+ KB\n"
     ]
    }
   ],
   "source": [
    "#Verificar tipo da informação\n",
    "base_dados.info()"
   ]
  },
  {
   "cell_type": "code",
   "execution_count": 7,
   "id": "2419a678",
   "metadata": {
    "execution": {
     "iopub.execute_input": "2022-06-29T22:59:08.434716Z",
     "iopub.status.busy": "2022-06-29T22:59:08.434303Z",
     "iopub.status.idle": "2022-06-29T22:59:08.450282Z",
     "shell.execute_reply": "2022-06-29T22:59:08.446913Z"
    },
    "papermill": {
     "duration": 0.028939,
     "end_time": "2022-06-29T22:59:08.454323",
     "exception": false,
     "start_time": "2022-06-29T22:59:08.425384",
     "status": "completed"
    },
    "tags": []
   },
   "outputs": [
    {
     "data": {
      "text/plain": [
       "Id                 0\n",
       "Empresa            0\n",
       "Valor ($)          0\n",
       "Data de Adesão     0\n",
       "Pais               0\n",
       "Cidade            15\n",
       "Setor              0\n",
       "Investidores       1\n",
       "dtype: int64"
      ]
     },
     "execution_count": 7,
     "metadata": {},
     "output_type": "execute_result"
    }
   ],
   "source": [
    "base_dados.isnull().sum()"
   ]
  },
  {
   "cell_type": "code",
   "execution_count": 8,
   "id": "cf7d7c97",
   "metadata": {
    "execution": {
     "iopub.execute_input": "2022-06-29T22:59:08.471942Z",
     "iopub.status.busy": "2022-06-29T22:59:08.471002Z",
     "iopub.status.idle": "2022-06-29T22:59:08.984384Z",
     "shell.execute_reply": "2022-06-29T22:59:08.982437Z"
    },
    "papermill": {
     "duration": 0.527468,
     "end_time": "2022-06-29T22:59:08.989365",
     "exception": false,
     "start_time": "2022-06-29T22:59:08.461897",
     "status": "completed"
    },
    "tags": []
   },
   "outputs": [
    {
     "data": {
      "text/plain": [
       "<AxesSubplot:title={'center':'Analisando Campos Nulos'}>"
      ]
     },
     "execution_count": 8,
     "metadata": {},
     "output_type": "execute_result"
    },
    {
     "data": {
      "image/png": "[encoded data removed]",
      "text/plain": [
       "<Figure size 1080x432 with 1 Axes>"
      ]
     },
     "metadata": {
      "needs_background": "light"
     },
     "output_type": "display_data"
    }
   ],
   "source": [
    "# Grafica\n",
    "plt.figure(figsize=(15,6))\n",
    "plt.title('Analisando Campos Nulos')\n",
    "sns.heatmap(base_dados.isnull(), cbar=False)"
   ]
  },
  {
   "cell_type": "code",
   "execution_count": 9,
   "id": "bc774387",
   "metadata": {
    "execution": {
     "iopub.execute_input": "2022-06-29T22:59:09.007248Z",
     "iopub.status.busy": "2022-06-29T22:59:09.006730Z",
     "iopub.status.idle": "2022-06-29T22:59:09.028108Z",
     "shell.execute_reply": "2022-06-29T22:59:09.024514Z"
    },
    "papermill": {
     "duration": 0.034658,
     "end_time": "2022-06-29T22:59:09.031340",
     "exception": false,
     "start_time": "2022-06-29T22:59:08.996682",
     "status": "completed"
    },
    "tags": []
   },
   "outputs": [
    {
     "data": {
      "text/plain": [
       "Id                936\n",
       "Empresa           935\n",
       "Valor ($)         192\n",
       "Data de Adesão    589\n",
       "Pais               47\n",
       "Cidade            239\n",
       "Setor              17\n",
       "Investidores      920\n",
       "dtype: int64"
      ]
     },
     "execution_count": 9,
     "metadata": {},
     "output_type": "execute_result"
    }
   ],
   "source": [
    "# Campos únicos \n",
    "base_dados.nunique()"
   ]
  },
  {
   "cell_type": "code",
   "execution_count": 10,
   "id": "10aedf36",
   "metadata": {
    "execution": {
     "iopub.execute_input": "2022-06-29T22:59:09.044668Z",
     "iopub.status.busy": "2022-06-29T22:59:09.044236Z",
     "iopub.status.idle": "2022-06-29T22:59:09.056319Z",
     "shell.execute_reply": "2022-06-29T22:59:09.054322Z"
    },
    "papermill": {
     "duration": 0.022293,
     "end_time": "2022-06-29T22:59:09.058909",
     "exception": false,
     "start_time": "2022-06-29T22:59:09.036616",
     "status": "completed"
    },
    "tags": []
   },
   "outputs": [
    {
     "data": {
      "text/plain": [
       "array(['Artificial intelligence', 'Other', 'Fintech',\n",
       "       'Internet software & services',\n",
       "       'Supply chain, logistics, & delivery',\n",
       "       'Data management & analytics', 'Edtech',\n",
       "       'E-commerce & direct-to-consumer', 'Hardware', 'Health',\n",
       "       'Consumer & retail', 'Auto & transportation', 'Finttech',\n",
       "       'Cybersecurity', 'Mobile & telecommunications', 'Travel',\n",
       "       'Artificial Intelligence'], dtype=object)"
      ]
     },
     "execution_count": 10,
     "metadata": {},
     "output_type": "execute_result"
    }
   ],
   "source": [
    "base_dados['Setor'].unique()"
   ]
  },
  {
   "cell_type": "code",
   "execution_count": 11,
   "id": "76ae6bdb",
   "metadata": {
    "execution": {
     "iopub.execute_input": "2022-06-29T22:59:09.077046Z",
     "iopub.status.busy": "2022-06-29T22:59:09.076407Z",
     "iopub.status.idle": "2022-06-29T22:59:09.083855Z",
     "shell.execute_reply": "2022-06-29T22:59:09.082821Z"
    },
    "papermill": {
     "duration": 0.022036,
     "end_time": "2022-06-29T22:59:09.088942",
     "exception": false,
     "start_time": "2022-06-29T22:59:09.066906",
     "status": "completed"
    },
    "tags": []
   },
   "outputs": [
    {
     "data": {
      "text/plain": [
       "Fintech                                190\n",
       "Internet software & services           167\n",
       "E-commerce & direct-to-consumer        102\n",
       "Artificial intelligence                 69\n",
       "Health                                  63\n",
       "Supply chain, logistics, & delivery     51\n",
       "Other                                   51\n",
       "Cybersecurity                           41\n",
       "Mobile & telecommunications             37\n",
       "Data management & analytics             36\n",
       "Hardware                                32\n",
       "Auto & transportation                   29\n",
       "Edtech                                  27\n",
       "Consumer & retail                       23\n",
       "Travel                                  13\n",
       "Artificial Intelligence                  4\n",
       "Finttech                                 1\n",
       "Name: Setor, dtype: int64"
      ]
     },
     "execution_count": 11,
     "metadata": {},
     "output_type": "execute_result"
    }
   ],
   "source": [
    "# Valores Unicos - Ran\n",
    "base_dados['Setor'].value_counts()"
   ]
  },
  {
   "cell_type": "code",
   "execution_count": 12,
   "id": "71a09354",
   "metadata": {
    "execution": {
     "iopub.execute_input": "2022-06-29T22:59:09.109230Z",
     "iopub.status.busy": "2022-06-29T22:59:09.108212Z",
     "iopub.status.idle": "2022-06-29T22:59:09.115986Z",
     "shell.execute_reply": "2022-06-29T22:59:09.115053Z"
    },
    "papermill": {
     "duration": 0.021423,
     "end_time": "2022-06-29T22:59:09.119214",
     "exception": false,
     "start_time": "2022-06-29T22:59:09.097791",
     "status": "completed"
    },
    "tags": []
   },
   "outputs": [
    {
     "data": {
      "text/plain": [
       "Fintech                                0.202991\n",
       "Internet software & services           0.178419\n",
       "E-commerce & direct-to-consumer        0.108974\n",
       "Artificial intelligence                0.073718\n",
       "Health                                 0.067308\n",
       "Supply chain, logistics, & delivery    0.054487\n",
       "Other                                  0.054487\n",
       "Cybersecurity                          0.043803\n",
       "Mobile & telecommunications            0.039530\n",
       "Data management & analytics            0.038462\n",
       "Hardware                               0.034188\n",
       "Auto & transportation                  0.030983\n",
       "Edtech                                 0.028846\n",
       "Consumer & retail                      0.024573\n",
       "Travel                                 0.013889\n",
       "Artificial Intelligence                0.004274\n",
       "Finttech                               0.001068\n",
       "Name: Setor, dtype: float64"
      ]
     },
     "execution_count": 12,
     "metadata": {},
     "output_type": "execute_result"
    }
   ],
   "source": [
    "# Valores Unicos - Ran\n",
    "base_dados['Setor'].value_counts(normalize = True)"
   ]
  }
 ],
 "metadata": {
  "kernelspec": {
   "display_name": "Python 3",
   "language": "python",
   "name": "python3"
  },
  "language_info": {
   "codemirror_mode": {
    "name": "ipython",
    "version": 3
   },
   "file_extension": ".py",
   "mimetype": "text/x-python",
   "name": "python",
   "nbconvert_exporter": "python",
   "pygments_lexer": "ipython3",
   "version": "3.7.12"
  },
  "papermill": {
   "default_parameters": {},
   "duration": 28.148214,
   "end_time": "2022-06-29T22:59:10.359426",
   "environment_variables": {},
   "exception": null,
   "input_path": "__notebook__.ipynb",
   "output_path": "__notebook__.ipynb",
   "parameters": {},
   "start_time": "2022-06-29T22:58:42.211212",
   "version": "2.3.4"
  }
 },
 "nbformat": 4,
 "nbformat_minor": 5
}
